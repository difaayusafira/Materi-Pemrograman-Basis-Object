{
 "cells": [
  {
   "cell_type": "markdown",
   "metadata": {},
   "source": [
    "~ Enkapsulasi(pembungkusan/pengkapsulan) : informasi yang disembunyikan (method \n",
    "  dan property) .\n",
    "  Method dan proterty bersifat private.\n",
    "  Isi dari kapsul = private, public, method, property\n",
    "  public = karna bisa diakses di luar(formatnya menggunakan +) \n",
    "  Private = karna tidak bisa diakses di luar kelas( formatnya menggunakan _/__)"
   ]
  },
  {
   "cell_type": "code",
   "execution_count": null,
   "metadata": {},
   "outputs": [],
   "source": [
    "class Robot(object):\n",
    "    def __init__(self):\n",
    "        self.__version = 22\n",
    "        \n",
    "        def getVersion(self):\n",
    "            print(self.__version)\n",
    "        def setVersion(self,version):\n",
    "            self.__version = version\n",
    "\n",
    "obj = Robot()\n",
    "obj.getVersion()\n",
    "obj.setVersion(23)\n",
    "pbj.getVersion()\n",
    "print(obj.__version)\n",
    "#print(obj._Robot__version)"
   ]
  },
  {
   "cell_type": "code",
   "execution_count": null,
   "metadata": {},
   "outputs": [],
   "source": [
    "class persegipanjang:\n",
    "    def __init__(self):\n",
    "        self.__pjg = 4\n",
    "        self.__lbr = 5\n",
    "        self.__bentuk = \"persegi panjang\"\n",
    "    def __luas(self): #method private\n",
    "        print (\"LUAS = \", self.__pjg*self.__lbr)\n",
    "    def size(self,panjang,lebar): #method public\n",
    "        self.__pjg = panjang\n",
    "        self.__lbr = lebar\n",
    "#cara memanggil menggunakan method private\n",
    "pp = persegipanjang()\n",
    "pp._persegipanjang__luas()\n",
    "#cara memanggil menggunakan atribut private\n",
    "pp.size(10,5)\n",
    "pp._persegipanjang__luas()"
   ]
  }
 ],
 "metadata": {
  "kernelspec": {
   "display_name": "Python 3",
   "language": "python",
   "name": "python3"
  },
  "language_info": {
   "codemirror_mode": {
    "name": "ipython",
    "version": 3
   },
   "file_extension": ".py",
   "mimetype": "text/x-python",
   "name": "python",
   "nbconvert_exporter": "python",
   "pygments_lexer": "ipython3",
   "version": "3.6.5"
  }
 },
 "nbformat": 4,
 "nbformat_minor": 2
}
