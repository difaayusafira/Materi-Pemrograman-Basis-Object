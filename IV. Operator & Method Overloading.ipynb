{
 "cells": [
  {
   "cell_type": "markdown",
   "metadata": {},
   "source": [
    "~ Method Overloading merupakan suatu function yang memiliki parameter, dan \n",
    "  function tersebut dapat memiliki nama function yang sama dengan yang lainnya \n",
    "  dengan syarat jumlah parameter selalu berbeda\n",
    "~ Method Overloading = sebuah method dengan multyple cara, boleh dengan beda\n",
    "  parameter atau beda dari function yg didefinisikan \n",
    "  Definisi secara singkatnya :\n",
    "        - Nama method boleh sama, tetapi jumlahparameter(isi) berbeda\n",
    "        - Nilai yang di return harus memiliki tipe yang sama\n",
    "        - dapat digunakan untuk inheritance\n",
    "        - method yang banya bentuk\n",
    "~ Operator overloading merupakan penemoatan operatornya banyak tidak selalu \n",
    "  method. \n",
    "~ Operator Overloading = untuk mendefinisikan spesial method, bisa digunakan \n",
    "  untuk mendefinisikan arti dari operatur tsb atau operator overloading bisa\n",
    "  menggunakan tanda + atau add\n",
    "~ Operator Overloading = operator yang di overloading, bisa untuk ditambahkan \n",
    "  atau dikurangkan\n",
    "     misal + , dapat ditambah untuk bilangan integer atau menggabungkan string\n",
    "           - , tidak  bisa(error)\n",
    "python tidak mensupport overloading, supaya bisa dijalankan harus mengubah banya method menjadi satu(satu method tetapi pemanggilnya banyak)"
   ]
  },
  {
   "cell_type": "code",
   "execution_count": null,
   "metadata": {},
   "outputs": [],
   "source": [
    "#contoh overloading\n",
    "class Human:\n",
    "    def sayHello(self, name=None): #--> parameter None, untuk memanggil dg atau tanpa parameter\n",
    "        if name is not None: #--> untuk inputa\n",
    "            print ('Hello' + name)\n",
    "        else:\n",
    "            print ('Hello ')\n",
    " \n",
    "# Create instance\n",
    "obj = Human()\n",
    "# Call the method\n",
    "obj.sayHello()\n",
    "# Call the method with a parameter\n",
    "obj.sayHello('Guido')\n"
   ]
  },
  {
   "cell_type": "code",
   "execution_count": null,
   "metadata": {},
   "outputs": [],
   "source": [
    "#contoh spesail method (operator overloading)\n",
    "\n",
    "class Fraction:\n",
    "    def __init__(self, top, bottom):\n",
    "        self.num = top\n",
    "        self.den = bottom\n",
    "    \n",
    "    def show(self):\n",
    "        print(self.num, \"/\",self.den)\n",
    "\n",
    "    def __str__(self): #--> spesial method = untuk mengubah suatu objek ke dalam bentuk konfersi/ string\n",
    "        return str(self.num) + \"/\" + str(self.den)\n",
    "    \n",
    "    def __add__(self, otherfraction):\n",
    "        newnum = self.num*otherfraction.den + self.den*otherfraction.num\n",
    "        newden = self.den*otherfraction.den\n",
    "        return Fraction(newnum,newden)\n",
    "    def __sub\n",
    "f1 = Fraction (1,4)\n",
    "f2 = Fraction (1,2)\n",
    "print(f1+f2)\n"
   ]
  },
  {
   "cell_type": "code",
   "execution_count": null,
   "metadata": {},
   "outputs": [],
   "source": [
    "#Contoh\n",
    "\n",
    "class Point:\n",
    "    def __init__(self, x=0, y=0):\n",
    "        self.x = x\n",
    "        self.y = y\n",
    "    def __str__(self):\n",
    "        return (\"({0}),({1}))\".format(self.x,self.y))\n",
    "    def __str__(self):\n",
    "        return \"Point object is at: (\"+ str(self.x) + \",\" + str(self.y) +\")\"\n",
    "    def __add__(self,other):\n",
    "        x = self.x - other.x\n",
    "        y = self.y - other.y\n",
    "        return Point(x,y)\n",
    "    def __sub__()\n",
    "p1 = Point(2,3)\n",
    "p2 = Point(-1,2)\n",
    "print (p1+p2)"
   ]
  }
 ],
 "metadata": {
  "kernelspec": {
   "display_name": "Python 3",
   "language": "python",
   "name": "python3"
  },
  "language_info": {
   "codemirror_mode": {
    "name": "ipython",
    "version": 3
   },
   "file_extension": ".py",
   "mimetype": "text/x-python",
   "name": "python",
   "nbconvert_exporter": "python",
   "pygments_lexer": "ipython3",
   "version": "3.6.5"
  }
 },
 "nbformat": 4,
 "nbformat_minor": 2
}
